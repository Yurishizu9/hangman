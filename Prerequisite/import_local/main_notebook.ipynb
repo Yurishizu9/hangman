{
 "cells": [
  {
   "cell_type": "markdown",
   "metadata": {},
   "source": [
    "When you change the code in a module, those changes will be effective in all the files that import that module. However, if you are using a notebook, you will need to restart the kernel to see the changes."
   ]
  },
  {
   "cell_type": "markdown",
   "metadata": {},
   "source": [
    "Open main_notebook.ipynb and from module_1, import function_1 and call it. Test it works by running the cell. You should see the message \"This is function 1 in module 1\""
   ]
  },
  {
   "cell_type": "code",
   "execution_count": 1,
   "metadata": {},
   "outputs": [
    {
     "name": "stdout",
     "output_type": "stream",
     "text": [
      "This is function 1 in module 1. I have been changed!\n"
     ]
    }
   ],
   "source": [
    "from module_1 import function_1\n",
    "\n",
    "function_1()"
   ]
  },
  {
   "cell_type": "markdown",
   "metadata": {},
   "source": [
    "Now, open module_1.py and change the message to \"This is function 1 in module 1. I have been changed!\". Then, run the cell in main_notebook.ipynb again. You should see the message \"This is function 1 in module 1\""
   ]
  },
  {
   "cell_type": "code",
   "execution_count": 2,
   "metadata": {},
   "outputs": [
    {
     "name": "stdout",
     "output_type": "stream",
     "text": [
      "This is function 1 in module 1. I have been changed!\n"
     ]
    }
   ],
   "source": [
    "function_1()"
   ]
  },
  {
   "cell_type": "markdown",
   "metadata": {},
   "source": [
    "The message is the same as before, even though you changed it in module_1.py. This is because you imported function_1 before you made the change. If you want to see the changes, you will need to restart the kernel and run the cell again."
   ]
  },
  {
   "cell_type": "markdown",
   "metadata": {},
   "source": [
    "Go back to main_notebook.ipynb and restart the kernel.\n",
    "Run the cell again. You should see the message \"This is function 1 in module 1. I have been changed!\""
   ]
  }
 ],
 "metadata": {
  "kernelspec": {
   "display_name": "Python 3",
   "language": "python",
   "name": "python3"
  },
  "language_info": {
   "codemirror_mode": {
    "name": "ipython",
    "version": 3
   },
   "file_extension": ".py",
   "mimetype": "text/x-python",
   "name": "python",
   "nbconvert_exporter": "python",
   "pygments_lexer": "ipython3",
   "version": "3.11.0rc2"
  },
  "orig_nbformat": 4,
  "vscode": {
   "interpreter": {
    "hash": "767d51c1340bd893661ea55ea3124f6de3c7a262a8b4abca0554b478b1e2ff90"
   }
  }
 },
 "nbformat": 4,
 "nbformat_minor": 2
}
